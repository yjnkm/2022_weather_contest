{
 "cells": [
  {
   "cell_type": "code",
   "execution_count": 1,
   "metadata": {
    "ExecuteTime": {
     "end_time": "2022-08-07T07:28:16.550028Z",
     "start_time": "2022-08-07T07:28:13.892323Z"
    },
    "scrolled": true
   },
   "outputs": [],
   "source": [
    "from pytimekr import pytimekr\n",
    "from datetime import datetime\n",
    "import sys\n",
    "import math\n",
    "import calendar\n",
    "from sklearn.metrics import mean_squared_error\n",
    "import lightgbm as lgb\n",
    "\n",
    "import matplotlib.pyplot as plt \n",
    "%matplotlib inline \n",
    "plt.rcParams['font.family'] = 'NanumGothic'\n",
    "\n",
    "import pandas as pd \n",
    "import numpy as np \n",
    "\n",
    "import warnings \n",
    "warnings.filterwarnings('ignore')\n",
    "\n",
    "\n",
    "from sklearn.preprocessing import LabelEncoder"
   ]
  },
  {
   "cell_type": "markdown",
   "metadata": {},
   "source": [
    "# 변수 생성을 위한 함수"
   ]
  },
  {
   "cell_type": "code",
   "execution_count": 2,
   "metadata": {
    "ExecuteTime": {
     "end_time": "2022-08-07T07:28:16.565074Z",
     "start_time": "2022-08-07T07:28:16.552104Z"
    }
   },
   "outputs": [],
   "source": [
    "def fill_2012(train,var) : \n",
    "    lst = train[(train['year']=='2013')& (train['month'] >=11)][var].reset_index()[var]\n",
    "    fillna_idx = train[(train['year']=='2012')&(train[var]).isnull()].index\n",
    "    for i in range(len(fillna_idx)):\n",
    "        train.at[fillna_idx[i],var]=lst[i]"
   ]
  },
  {
   "cell_type": "code",
   "execution_count": 3,
   "metadata": {
    "ExecuteTime": {
     "end_time": "2022-08-07T07:28:16.580818Z",
     "start_time": "2022-08-07T07:28:16.567678Z"
    }
   },
   "outputs": [],
   "source": [
    "def fill_2015(train,var) : \n",
    "    lst = train[(train['year']=='2014')& (train['month'] ==5)& (train['day'] >=21)][var].reset_index()[var]\n",
    "    fillna_idx = train[(train['year']=='2015')&(train[var]).isnull()].index\n",
    "    for i in range(len(fillna_idx)):\n",
    "        train.at[fillna_idx[i],var]=lst[i]"
   ]
  },
  {
   "cell_type": "code",
   "execution_count": 4,
   "metadata": {
    "ExecuteTime": {
     "end_time": "2022-08-07T07:28:16.596007Z",
     "start_time": "2022-08-07T07:28:16.582911Z"
    }
   },
   "outputs": [],
   "source": [
    "def fill_2014(train,var) : \n",
    "    lst = train[(train['year']=='2015')& (train['month'] ==12)][var].reset_index()[var]\n",
    "    fillna_idx = train[(train['year']=='2014')&(train[var]).isnull()].index\n",
    "    for i in range(len(fillna_idx)):\n",
    "        train.at[fillna_idx[i],var]=lst[i]"
   ]
  },
  {
   "cell_type": "code",
   "execution_count": 5,
   "metadata": {
    "ExecuteTime": {
     "end_time": "2022-08-07T07:28:16.611159Z",
     "start_time": "2022-08-07T07:28:16.597932Z"
    }
   },
   "outputs": [],
   "source": [
    "def day(date):\n",
    "    date_convert = datetime.strptime(date, '%Y%m%d').date()\n",
    "    days = ['월', '화', '수', '목', '금', '토', '일']\n",
    "    day = date_convert.weekday()\n",
    "    return days[day]"
   ]
  },
  {
   "cell_type": "code",
   "execution_count": 6,
   "metadata": {
    "ExecuteTime": {
     "end_time": "2022-08-07T07:28:16.626330Z",
     "start_time": "2022-08-07T07:28:16.612999Z"
    }
   },
   "outputs": [],
   "source": [
    "def season(m):\n",
    "    if 3<=m<=5:\n",
    "        m='봄'\n",
    "    elif 6<=m<=8:\n",
    "        m='여름'\n",
    "    elif 9<=m<=11:\n",
    "        m='가을'\n",
    "    else:\n",
    "        m='겨울'\n",
    "    return m"
   ]
  },
  {
   "cell_type": "code",
   "execution_count": 7,
   "metadata": {
    "ExecuteTime": {
     "end_time": "2022-08-07T07:28:16.641324Z",
     "start_time": "2022-08-07T07:28:16.627334Z"
    }
   },
   "outputs": [],
   "source": [
    "def pm10_class(p) :\n",
    "    if 0<=p<=30 :\n",
    "        p = 'good'\n",
    "    elif 30<p<=80 :\n",
    "        p = 'normal'\n",
    "    elif 80<p<=150 :\n",
    "        p = 'bad'\n",
    "    else :\n",
    "        p = 'worst'\n",
    "    return p"
   ]
  },
  {
   "cell_type": "code",
   "execution_count": 8,
   "metadata": {
    "ExecuteTime": {
     "end_time": "2022-08-07T07:28:16.657053Z",
     "start_time": "2022-08-07T07:28:16.644189Z"
    }
   },
   "outputs": [],
   "source": [
    "def body(m,t,w,r):\n",
    "    if 4< m <10:\n",
    "        tw=t*math.atan(0.151977*math.sqrt(r+8.313659))+math.atan(r+t)-\\\n",
    "        math.atan(r-1.67633)+0.00391833*(math.sqrt(r)**3)*math.atan(0.23101*r)-4.606835\n",
    "        data=-0.2442+0.55399*tw+0.45535*t-0.0022*tw**2+0.00278*tw*t+3.5\n",
    "    else:\n",
    "        data=13.12+0.6215*t-11.37*w**0.16+0.3965*t*w**0.16\n",
    "    return  data"
   ]
  },
  {
   "cell_type": "code",
   "execution_count": 9,
   "metadata": {
    "ExecuteTime": {
     "end_time": "2022-08-07T07:28:16.672529Z",
     "start_time": "2022-08-07T07:28:16.665460Z"
    }
   },
   "outputs": [],
   "source": [
    "def max_min_class(m) :\n",
    "    if 0<=m<=7 :\n",
    "        m = 'low'\n",
    "    elif 7<m<=12 :\n",
    "        m = 'middle'\n",
    "    else :\n",
    "        m = 'high'\n",
    "    return m"
   ]
  },
  {
   "cell_type": "code",
   "execution_count": 10,
   "metadata": {
    "ExecuteTime": {
     "end_time": "2022-08-07T07:28:16.687460Z",
     "start_time": "2022-08-07T07:28:16.674469Z"
    }
   },
   "outputs": [],
   "source": [
    "def score(df,val,area,score,Val_score):\n",
    "    score_idx=df[df['stn_id']==area].index\n",
    "    area2 = Val_score[area]\n",
    "    if Val_score==Val_ta:\n",
    "        score[score_idx]=df[(df['stn_id']==area)&((df[val]==0)|(df[val]))][val].\\\n",
    "        apply(lambda x: '4' if x<area2[0] else ('3' if area2[0]<=x<area2[1] else ('2' if  area2[1]<=x<area2[2]  else '1')))\n",
    "    else:\n",
    "        score[score_idx]=df[(df['stn_id']==area)&(df[val])][val].\\\n",
    "        apply(lambda x: '4' if x>=area2[0] else ('3' if area2[1]<=x<area2[0] else ('2' if  area2[2]<=x<area2[1]  else '1')))\n",
    "    return score "
   ]
  },
  {
   "cell_type": "code",
   "execution_count": 11,
   "metadata": {
    "ExecuteTime": {
     "end_time": "2022-08-07T07:28:16.702441Z",
     "start_time": "2022-08-07T07:28:16.689473Z"
    }
   },
   "outputs": [],
   "source": [
    "Val_ta={'서울':[-8.1,0.6,13.5],'경기':[-9.0,-1.1,12.2],'인천':[-7.1,1.0,13.5], '충북': [-8.2,-0.6,12.6],\n",
    "        '충남': [-7.7,-0.5,12.6],'대전': [-7.7,-0.5,12.6], '세종': [-7.7,-0.5,12.6], '대구':[-4.8,1.6,13.8],\n",
    "        '경북':[-4.8,1.6,13.8],'전북':[-6.6,0.1,13.8],'울산':[-3.9,2.5,13.8],'경남':[-3.1,3.5,14.9],\n",
    "       '광주':[-4.8,1.4,13.7],'부산':[-2.9,4.7,15.1],'전남':[-3.3,2.3,14.0],'제주':[-1.7,6.5,16.0],'강원':[-8.8,-0.5,12] }\n",
    "Val_pa={'서울':[1017.9,1011.9,1003.5],'경기':[1024.7,1018.5,1009.9],'인천':[1020.2,1014.1,1005.7],\n",
    "        '충북': [1021.7,1015.6,1007.2],'충남': [1020.2,1014.1,1005.8],'대전': [1020.2,1014.1,1005.8],\n",
    "        '세종': [1020.2,1014.1,1005.8],'대구':[1020.7,1014.7,1007.0],'경북':[1020.7,1014.7,1007.0],\n",
    "        '전북':[1022.1,1016.2,1007.6],'울산':[1022.7,1016.8,1009.6],'경남':[1024.5,1018.0,1010.4],\n",
    "       '광주':[1019.6,1013.8,1005.5],'부산':[1018.1,1012.5,1005.4],'전남':[1023.7,1017.9,1009.4],\n",
    "        '제주':[1025.6,1019.8,1009.4],'강원':[1021.45,1019.75,1007.45] }\n",
    "Val_rhm={'서울':[86.5,72.4,57.3],'경기':[89.6,78.1,63.9],'인천':[90.4,78.8,63.1], '충북': [86.0,73.4,59.9],\n",
    "        '충남': [88.0,75.1,62.5],'대전': [88.0,75.1,62.5], '세종': [88.0,75.1,62.5], '대구':[84.6,69.0,52.8],\n",
    "        '경북':[84.6,69.0,52.8],'전북':[86.5,75.0,63.5],'울산':[88.3,76.0,59.5],'경남':[87.3,75.4,57.5],\n",
    "       '광주':[89.1,76.5,64.1],'부산':[89.9,77.0,58.0],'전남':[94.5,84.3,72.8],'제주':[86.4,75.1,62.0],'강원':[90.3,77.85,59.35]}\n",
    "Val_dtr={'서울':[12.5,9.9,7.3],'경기':[15.1,11.7,8.4],'인천':[11.7,9.2,6.8], '충북': [16.0,12.4,8.7],\n",
    "        '충남': [15.8,12.3,8.6],'대전': [15.8,12.3,8.6], '세종': [15.8,12.3,8.6], '대구':[15.5,12.0,8.7],\n",
    "        '경북':[15.5,12.0,8.7],'전북':[16.4,12.9,9.1],'울산':[15.1,11.5,8.4],'경남':[12.5,10.0,7.5],\n",
    "       '광주':[15.6,11.9,8.2],'부산':[11.2,9.0,6.8],'전남':[12.1,9.4,6.7],'제주':[10.1,7.4,5.0],'강원':[15.3,11.9,8.65] }"
   ]
  },
  {
   "cell_type": "code",
   "execution_count": 12,
   "metadata": {
    "ExecuteTime": {
     "end_time": "2022-08-07T07:28:16.717397Z",
     "start_time": "2022-08-07T07:28:16.704433Z"
    }
   },
   "outputs": [],
   "source": [
    "def ti_level(x):\n",
    "    if 1<=x<1.3877:\n",
    "        x = '4'\n",
    "    elif 1.3877<=x<2.7731:\n",
    "        x = '3'\n",
    "    elif 2.7731<=x<3.213:\n",
    "        x = '2'\n",
    "    else :\n",
    "        x = '1'\n",
    "    return x"
   ]
  },
  {
   "cell_type": "code",
   "execution_count": 13,
   "metadata": {
    "ExecuteTime": {
     "end_time": "2022-08-07T07:28:16.732443Z",
     "start_time": "2022-08-07T07:28:16.719392Z"
    }
   },
   "outputs": [],
   "source": [
    "def elder_rate_class(m) :\n",
    "    if 0<=m<7 :\n",
    "        m = '성숙인구사회'\n",
    "    elif 7<=m<14 :\n",
    "        m = '고령화사회'\n",
    "    elif 14<=m<20 :\n",
    "        m = '고령사회'\n",
    "    else :\n",
    "        m = '초고령사회'\n",
    "    return m"
   ]
  },
  {
   "cell_type": "code",
   "execution_count": 14,
   "metadata": {
    "ExecuteTime": {
     "end_time": "2022-08-07T07:28:16.747338Z",
     "start_time": "2022-08-07T07:28:16.734352Z"
    }
   },
   "outputs": [],
   "source": [
    "fill_pairs = {\n",
    "    '강원' : '경북',  '충북' : '충남', '경남' : '경북',  '대전' : '충북',  '세종' : '충북', '광주' : '전북',\n",
    "    '대구' : '경북',  '부산' : '경남', '서울' : '경기',  '울산' : '경남',  '전북' : '광주', '제주' : '전남',\n",
    "}\n",
    "\n",
    "def fill_pm10(df, area) : \n",
    "    # 지역별 pm10이 NA인 index\n",
    "    na_idx = df[(df['stn_id'] == area) & (df['pm10'].isnull())].index\n",
    "    area2 = fill_pairs[area]\n",
    "    for idx in na_idx : \n",
    "        date = df.iloc[idx]['tma']\n",
    "        pm10_fill = df[(df['tma'] == date) & (df['stn_id'] == area2)]['pm10'].values[0]\n",
    "        df.at[idx, 'pm10'] = pm10_fill "
   ]
  },
  {
   "cell_type": "code",
   "execution_count": 15,
   "metadata": {
    "ExecuteTime": {
     "end_time": "2022-08-07T07:28:16.762001Z",
     "start_time": "2022-08-07T07:28:16.748904Z"
    }
   },
   "outputs": [],
   "source": [
    "def cal(y,m):\n",
    "    y=int(y)\n",
    "    data=calendar.monthrange(y,m)[1]\n",
    "    return data "
   ]
  },
  {
   "cell_type": "markdown",
   "metadata": {},
   "source": [
    "# Pipe line \n",
    "#### 기존의 원본 데이터로부터 모델링에 적합한 형태로 데이터를 정돈"
   ]
  },
  {
   "cell_type": "code",
   "execution_count": 16,
   "metadata": {
    "ExecuteTime": {
     "end_time": "2022-08-07T07:28:16.791937Z",
     "start_time": "2022-08-07T07:28:16.763986Z"
    }
   },
   "outputs": [],
   "source": [
    "def pipeline_train(data):\n",
    "    data['tma']=data[['tma']].astype(str)\n",
    "    data['year'] = data['tma'].apply(lambda x : x[0:4])\n",
    "    data['month'] = data['tma'].apply(lambda x : x[4:6])\n",
    "    data['day'] = data['tma'].apply(lambda x : x[6:8])\n",
    "    data['sex']=data[['sex']].astype(object)\n",
    "    data['year']=data[['year']].astype(str)\n",
    "    data['month']=data[['month']].astype('int64')\n",
    "    data['day']=data[['day']].astype('int64')\n",
    "    \n",
    "    mean_pop = data[data['stn_id'] == '세종'].loc[:,['year','month','elder_rate','elder',\n",
    "       'total_pop']].groupby('month').mean()\n",
    "    for i in range(1,7):\n",
    "        sj_2012 = data[(data['stn_id'] == '세종') & (data['month'] == i)& (data['year'] == '2012')].\\\n",
    "        loc[:,['year','month','elder_rate','elder','total_pop']]\n",
    "        sj_2012 = data[(data['stn_id'] == '세종') & (data['month'] == i)& (data['year'] == '2012')].\\\n",
    "        loc[:,['year','month','elder_rate','elder','total_pop']].fillna(mean_pop.loc[i])\n",
    "        data[data['stn_id'] == '세종'] = data[data['stn_id'] == '세종'].fillna(sj_2012)\n",
    "        \n",
    "    for area_ in fill_pairs.keys() : \n",
    "        fill_pm10(data, area_)\n",
    "    for var_ in ['fct_rhm','fct_max_ta','fct_min_ta']:\n",
    "        fill_2012(data,var_)\n",
    "    for var_ in ['fct_rhm','fct_max_ta','fct_min_ta']:\n",
    "        fill_2015(data,var_)\n",
    "    for var_ in ['fct_min_ta']:\n",
    "        fill_2014(data,var_)    \n",
    "        \n",
    "    data[20426:20428]['avg_rhm']=data[data['stn_id']=='전북'][['avg_rhm']].fillna(73.761804)\n",
    "    data[39404:39406]['avg_rhm']=data[data['stn_id']=='충북'][['avg_rhm']].fillna(61.145228)\n",
    "    \n",
    "    data['season']=data['month'].apply(season)\n",
    "    \n",
    "    data['weekday'] = data['tma'].apply(day)\n",
    "    \n",
    "    holidays=[1 if datetime.strptime(s,'%Y%m%d').date() in pytimekr.holidays(np.int(str(s)[0:4])) else 0 for s in data['tma']]\n",
    "    hangul_lst = data[(data['year']=='2012')&(data['month']==10)&(data['day']==9)].index\n",
    "    for i in range(len(hangul_lst)):\n",
    "        holidays[hangul_lst[i]]=0\n",
    "    buddha_lst_2012 = data[(data['year']=='2012')&(data['month']==5)&(data['day']==28)].index\n",
    "    for i in range(len(buddha_lst_2012)):\n",
    "        holidays[buddha_lst_2012[i]]=1\n",
    "    data['holidays']=holidays\n",
    "    data['holidays']=data[['holidays']].astype(object)\n",
    "    \n",
    "    data['pm10_class']=data['pm10'].apply(pm10_class)\n",
    "    \n",
    "    data['cold_wave']=data['min_ta'].apply(lambda x: '1'if x<-12 else '0')\n",
    "    data['heat_wave']=data['max_ta'].apply(lambda x: '1'if x>33 else '0' )\n",
    "    \n",
    "    data['dtr']= data['max_ta'] -data['min_ta']\n",
    "    data['fct_dtr']= data['fct_max_ta'] -data['fct_min_ta']\n",
    "    data['dtr_class']=data['dtr'].apply(max_min_class)\n",
    "    data['fct_dtr_class']=data['fct_dtr'].apply(max_min_class)\n",
    "    \n",
    "    data2 =[]\n",
    "    for i in range(len(data)):\n",
    "        val = body(data['month'][i],data['avg_ta'][i],data['avg_ws'][i],data['avg_rhm'][i])\n",
    "        data2.append(val)\n",
    "    data['wind_chill']=data2\n",
    "    \n",
    "    weight=pd.read_csv(\"가중치2.csv\",encoding='euc-kr')\n",
    "    data['t_w']=weight['min_ta'] \n",
    "    data['dtr_w'] = weight['dtr'] \n",
    "    data['p_w'] = weight['pa'] \n",
    "    data['rhm_w'] = weight['rhm'] \n",
    "    \n",
    "    ta=np.zeros(len(data))\n",
    "    for ar in Val_ta.keys():\n",
    "        data['ta_score']=score(data,'min_ta',ar,ta,Val_ta)\n",
    "    data['ta_level']=data['ta_score'] * data['t_w'] \n",
    "    \n",
    "    pa=np.zeros(len(data))\n",
    "    for ar in Val_pa.keys():\n",
    "        data['pa_score']=score(data,'avg_pa',ar,pa,Val_pa)\n",
    "    data['pa_level']=data['pa_score'] * data['p_w'] \n",
    "    \n",
    "    rhm=np.zeros(len(data))\n",
    "    for ar in Val_rhm.keys():\n",
    "        data['rhm_score']=score(data,'avg_rhm',ar,rhm,Val_rhm)\n",
    "    data['rhm_level']=data['rhm_score'] * data['rhm_w'] \n",
    "    \n",
    "    ta_diff=np.zeros(len(data))\n",
    "    for ar in Val_dtr.keys():\n",
    "        data['diff_score']=score(data,'dtr',ar,ta_diff,Val_dtr)\n",
    "    data['diff_level']=data['diff_score'] * data['dtr_w']      \n",
    "    \n",
    "    TI = (data['diff_level']+data['rhm_level']+data['pa_level']+data['ta_level'])/100\n",
    "    data['TI']=TI\n",
    "    data['stroke']= data['TI'].apply(ti_level)\n",
    "    \n",
    "    data['elder_rate_class']=data['elder_rate'].apply(elder_rate_class)\n",
    "    \n",
    "    data['last']=data.apply(lambda x: cal(x.year,x.month),axis=1)\n",
    "    data['last_class']=(data['last']==data['day']).apply(lambda x: '1' if x==True else '0' )\n",
    "    \n",
    "    data['city'] = data.stn_id.apply(lambda x : '1' if x == '부산' or x == '인천' or x == '대구' or x == '대전' or x == '광주' or x == '울산' or x == '서울' or x == '경기' else '0') \n",
    "\n",
    "    \n",
    "    data['EQ']=pd.read_csv('EQ_train.csv',encoding='euc-kr')['x']\n",
    "    data['obesity']=pd.read_csv('obesity_train.csv',encoding='euc-kr')['x']\n",
    "    data['smoking']=pd.read_csv('smoking_train.csv',encoding='euc-kr')['x']\n",
    "    data['stress']=pd.read_csv('stress_train.csv',encoding='euc-kr')['x']\n",
    "    data['drink']=pd.read_csv('Drink_train.csv',encoding='euc-kr')['x']\n",
    "    \n",
    "    data=data.drop(['t_w','dtr_w', 'p_w', 'rhm_w', 'ta_score', 'ta_level',\n",
    "       'pa_score', 'pa_level', 'rhm_score', 'rhm_level', 'diff_score',\n",
    "       'diff_level', 'TI','last'],axis=1)\n",
    "    \n",
    "    freq=data[['frequency','tma']]\n",
    "    freq=freq[freq['tma']!='20120101'].reset_index()\n",
    "    data1=data[data['tma']!='20151231']\n",
    "    data1['frequency']=freq['frequency']\n",
    "    \n",
    "    data1=data1[data1['frequency'] < 10]\n",
    "    \n",
    "    return data1"
   ]
  },
  {
   "cell_type": "code",
   "execution_count": 17,
   "metadata": {
    "ExecuteTime": {
     "end_time": "2022-08-07T07:28:16.821958Z",
     "start_time": "2022-08-07T07:28:16.792955Z"
    }
   },
   "outputs": [],
   "source": [
    "def pipeline_test(data):\n",
    "    data['tma']=data[['tma']].astype(str)\n",
    "    data['year'] = data['tma'].apply(lambda x : x[0:4])\n",
    "    data['month'] = data['tma'].apply(lambda x : x[4:6])\n",
    "    data['day'] = data['tma'].apply(lambda x : x[6:8])\n",
    "    data['sex']=data[['sex']].astype(object)\n",
    "    data['year']=data[['year']].astype(str)\n",
    "    data['month']=data[['month']].astype('int64')\n",
    "    data['day']=data[['day']].astype('int64')\n",
    "    \n",
    "    mean_pop = data[data['stn_id'] == '세종'].loc[:,['year','month','elder_rate','elder',\n",
    "       'total_pop']].groupby('month').mean()\n",
    "    for i in range(1,7):\n",
    "        sj_2012 = data[(data['stn_id'] == '세종') & (data['month'] == i)& (data['year'] == '2012')].\\\n",
    "        loc[:,['year','month','elder_rate','elder','total_pop']]\n",
    "        sj_2012 = data[(data['stn_id'] == '세종') & (data['month'] == i)& (data['year'] == '2012')].\\\n",
    "        loc[:,['year','month','elder_rate','elder','total_pop']].fillna(mean_pop.loc[i])\n",
    "        data[data['stn_id'] == '세종'] = data[data['stn_id'] == '세종'].fillna(sj_2012)\n",
    "        \n",
    "    for area_ in fill_pairs.keys() : \n",
    "        fill_pm10(data, area_)\n",
    "        \n",
    "    data['weekday'] = data['tma'].apply(day)\n",
    "    \n",
    "    holidays=[1 if datetime.strptime(s,'%Y%m%d').date() in pytimekr.holidays(np.int(str(s)[0:4])) else 0 for s in data['tma']]\n",
    "    data['holidays']=holidays\n",
    "    data['holidays']=data[['holidays']].astype(object)\n",
    "    \n",
    "    data['season']=data['month'].apply(season)\n",
    "    \n",
    "    data['pm10_class']=data['pm10'].apply(pm10_class)\n",
    "    \n",
    "    data['cold_wave']=data['min_ta'].apply(lambda x: '1'if x<-12 else '0')\n",
    "    data['heat_wave']=data['max_ta'].apply(lambda x: '1'if x>33 else '0' )\n",
    "    \n",
    "    data['dtr']= data['max_ta'] -data['min_ta']\n",
    "    data['fct_dtr']= data['fct_max_ta'] -data['fct_min_ta']\n",
    "    data['dtr_class']=data['dtr'].apply(max_min_class)\n",
    "    data['fct_dtr_class']=data['fct_dtr'].apply(max_min_class)\n",
    "    \n",
    "    data2 =[]\n",
    "    for i in range(len(data)):\n",
    "        val = body(data['month'][i],data['avg_ta'][i],data['avg_ws'][i],data['avg_rhm'][i])\n",
    "        data2.append(val)\n",
    "    data['wind_chill']=data2\n",
    "    \n",
    "    weight=pd.read_csv(\"가중치2.csv\",encoding='euc-kr')\n",
    "    data['t_w']=weight['min_ta'] \n",
    "    data['dtr_w'] = weight['dtr'] \n",
    "    data['p_w'] = weight['pa'] \n",
    "    data['rhm_w'] = weight['rhm'] \n",
    "    \n",
    "    ta=np.zeros(len(data))\n",
    "    for ar in Val_ta.keys():\n",
    "        data['ta_score']=score(data,'min_ta',ar,ta,Val_ta)\n",
    "    data['ta_level']=data['ta_score'] * data['t_w'] \n",
    "    \n",
    "    pa=np.zeros(len(data))\n",
    "    for ar in Val_pa.keys():\n",
    "        data['pa_score']=score(data,'avg_pa',ar,pa,Val_pa)\n",
    "    data['pa_level']=data['pa_score'] * data['p_w'] \n",
    "    \n",
    "    rhm=np.zeros(len(data))\n",
    "    for ar in Val_rhm.keys():\n",
    "        data['rhm_score']=score(data,'avg_rhm',ar,rhm,Val_rhm)\n",
    "    data['rhm_level']=data['rhm_score'] * data['rhm_w'] \n",
    "    \n",
    "    ta_diff=np.zeros(len(data))\n",
    "    for ar in Val_dtr.keys():\n",
    "        data['diff_score']=score(data,'dtr',ar,ta_diff,Val_dtr)\n",
    "    data['diff_level']=data['diff_score'] * data['dtr_w']      \n",
    "    \n",
    "    TI = (data['diff_level']+data['rhm_level']+data['pa_level']+data['ta_level'])/100\n",
    "    data['TI']=TI\n",
    "    data['stroke']= data['TI'].apply(ti_level)\n",
    "    \n",
    "    data['elder_rate_class']=data['elder_rate'].apply(elder_rate_class)\n",
    "    \n",
    "    data['last']=data.apply(lambda x: cal(x.year,x.month),axis=1)\n",
    "    data['last_class']=(data['last']==data['day']).apply(lambda x: '1' if x==True else '0' )\n",
    "    \n",
    "    data['city'] = data.stn_id.apply(lambda x : '1' if x == '부산' or x == '인천' or x == '대구' or x == '대전' or x == '광주' or x == '울산' or x == '서울' or x == '경기' else '0') \n",
    "    \n",
    "    data['EQ']=pd.read_csv('EQ_test.csv',encoding='euc-kr')['x']\n",
    "    data['obesity']=pd.read_csv('obesity_test.csv',encoding='euc-kr')['x']\n",
    "    data['smoking']=pd.read_csv('smoking_test.csv',encoding='euc-kr')['x']\n",
    "    data['stress']=pd.read_csv('stress_test.csv',encoding='euc-kr')['x']\n",
    "    data['drink']=pd.read_csv('Drink_test.csv',encoding='euc-kr')['x']\n",
    "    \n",
    "    data1=data.drop(['t_w','dtr_w', 'p_w', 'rhm_w', 'ta_score', 'ta_level',\n",
    "       'pa_score', 'pa_level', 'rhm_score', 'rhm_level', 'diff_score',\n",
    "       'diff_level', 'TI','last'],axis=1)\n",
    "    \n",
    "    \n",
    "    return data1 "
   ]
  },
  {
   "cell_type": "code",
   "execution_count": 18,
   "metadata": {
    "ExecuteTime": {
     "end_time": "2022-08-07T07:28:17.047940Z",
     "start_time": "2022-08-07T07:28:16.823293Z"
    }
   },
   "outputs": [
    {
     "data": {
      "text/html": [
       "<div>\n",
       "<style scoped>\n",
       "    .dataframe tbody tr th:only-of-type {\n",
       "        vertical-align: middle;\n",
       "    }\n",
       "\n",
       "    .dataframe tbody tr th {\n",
       "        vertical-align: top;\n",
       "    }\n",
       "\n",
       "    .dataframe thead th {\n",
       "        text-align: right;\n",
       "    }\n",
       "</style>\n",
       "<table border=\"1\" class=\"dataframe\">\n",
       "  <thead>\n",
       "    <tr style=\"text-align: right;\">\n",
       "      <th></th>\n",
       "      <th>tma</th>\n",
       "      <th>stn_id</th>\n",
       "      <th>sex</th>\n",
       "      <th>frequency</th>\n",
       "      <th>ssrate</th>\n",
       "      <th>sum_gsr</th>\n",
       "      <th>avg_pa</th>\n",
       "      <th>max_pa</th>\n",
       "      <th>min_pa</th>\n",
       "      <th>sum_rn</th>\n",
       "      <th>...</th>\n",
       "      <th>avg_ws</th>\n",
       "      <th>max_ws</th>\n",
       "      <th>pm10</th>\n",
       "      <th>avg_rhm</th>\n",
       "      <th>elder_rate</th>\n",
       "      <th>elder</th>\n",
       "      <th>total_pop</th>\n",
       "      <th>fct_rhm</th>\n",
       "      <th>fct_max_ta</th>\n",
       "      <th>fct_min_ta</th>\n",
       "    </tr>\n",
       "  </thead>\n",
       "  <tbody>\n",
       "    <tr>\n",
       "      <th>0</th>\n",
       "      <td>20120101</td>\n",
       "      <td>강원</td>\n",
       "      <td>1</td>\n",
       "      <td>3</td>\n",
       "      <td>38.600000</td>\n",
       "      <td>7.390</td>\n",
       "      <td>994.884615</td>\n",
       "      <td>996.923077</td>\n",
       "      <td>991.676923</td>\n",
       "      <td>0.180000</td>\n",
       "      <td>...</td>\n",
       "      <td>2.115385</td>\n",
       "      <td>5.292308</td>\n",
       "      <td>63.822062</td>\n",
       "      <td>63.536364</td>\n",
       "      <td>15.2</td>\n",
       "      <td>233959.0</td>\n",
       "      <td>1535335.0</td>\n",
       "      <td>30.0</td>\n",
       "      <td>1.0</td>\n",
       "      <td>-11.9</td>\n",
       "    </tr>\n",
       "    <tr>\n",
       "      <th>1</th>\n",
       "      <td>20120101</td>\n",
       "      <td>강원</td>\n",
       "      <td>2</td>\n",
       "      <td>3</td>\n",
       "      <td>38.600000</td>\n",
       "      <td>7.390</td>\n",
       "      <td>994.884615</td>\n",
       "      <td>996.923077</td>\n",
       "      <td>991.676923</td>\n",
       "      <td>0.180000</td>\n",
       "      <td>...</td>\n",
       "      <td>2.115385</td>\n",
       "      <td>5.292308</td>\n",
       "      <td>63.822062</td>\n",
       "      <td>63.536364</td>\n",
       "      <td>15.2</td>\n",
       "      <td>233959.0</td>\n",
       "      <td>1535335.0</td>\n",
       "      <td>30.0</td>\n",
       "      <td>1.0</td>\n",
       "      <td>-11.9</td>\n",
       "    </tr>\n",
       "    <tr>\n",
       "      <th>2</th>\n",
       "      <td>20120101</td>\n",
       "      <td>경기</td>\n",
       "      <td>1</td>\n",
       "      <td>4</td>\n",
       "      <td>26.780000</td>\n",
       "      <td>4.610</td>\n",
       "      <td>1017.160000</td>\n",
       "      <td>1019.280000</td>\n",
       "      <td>1014.340000</td>\n",
       "      <td>0.000000</td>\n",
       "      <td>...</td>\n",
       "      <td>1.720000</td>\n",
       "      <td>6.300000</td>\n",
       "      <td>97.238636</td>\n",
       "      <td>71.220000</td>\n",
       "      <td>9.0</td>\n",
       "      <td>1078741.0</td>\n",
       "      <td>11948596.0</td>\n",
       "      <td>44.0</td>\n",
       "      <td>0.9</td>\n",
       "      <td>-9.7</td>\n",
       "    </tr>\n",
       "    <tr>\n",
       "      <th>3</th>\n",
       "      <td>20120101</td>\n",
       "      <td>경기</td>\n",
       "      <td>2</td>\n",
       "      <td>5</td>\n",
       "      <td>26.780000</td>\n",
       "      <td>4.610</td>\n",
       "      <td>1017.160000</td>\n",
       "      <td>1019.280000</td>\n",
       "      <td>1014.340000</td>\n",
       "      <td>0.000000</td>\n",
       "      <td>...</td>\n",
       "      <td>1.720000</td>\n",
       "      <td>6.300000</td>\n",
       "      <td>97.238636</td>\n",
       "      <td>71.220000</td>\n",
       "      <td>9.0</td>\n",
       "      <td>1078741.0</td>\n",
       "      <td>11948596.0</td>\n",
       "      <td>44.0</td>\n",
       "      <td>0.9</td>\n",
       "      <td>-9.7</td>\n",
       "    </tr>\n",
       "    <tr>\n",
       "      <th>4</th>\n",
       "      <td>20120101</td>\n",
       "      <td>경남</td>\n",
       "      <td>1</td>\n",
       "      <td>2</td>\n",
       "      <td>22.835714</td>\n",
       "      <td>5.905</td>\n",
       "      <td>1014.842857</td>\n",
       "      <td>1016.885714</td>\n",
       "      <td>1011.742857</td>\n",
       "      <td>0.075000</td>\n",
       "      <td>...</td>\n",
       "      <td>2.250000</td>\n",
       "      <td>6.500000</td>\n",
       "      <td>35.263889</td>\n",
       "      <td>57.700000</td>\n",
       "      <td>12.1</td>\n",
       "      <td>400755.0</td>\n",
       "      <td>3309559.0</td>\n",
       "      <td>30.0</td>\n",
       "      <td>6.0</td>\n",
       "      <td>-4.9</td>\n",
       "    </tr>\n",
       "    <tr>\n",
       "      <th>...</th>\n",
       "      <td>...</td>\n",
       "      <td>...</td>\n",
       "      <td>...</td>\n",
       "      <td>...</td>\n",
       "      <td>...</td>\n",
       "      <td>...</td>\n",
       "      <td>...</td>\n",
       "      <td>...</td>\n",
       "      <td>...</td>\n",
       "      <td>...</td>\n",
       "      <td>...</td>\n",
       "      <td>...</td>\n",
       "      <td>...</td>\n",
       "      <td>...</td>\n",
       "      <td>...</td>\n",
       "      <td>...</td>\n",
       "      <td>...</td>\n",
       "      <td>...</td>\n",
       "      <td>...</td>\n",
       "      <td>...</td>\n",
       "      <td>...</td>\n",
       "    </tr>\n",
       "    <tr>\n",
       "      <th>49669</th>\n",
       "      <td>20151231</td>\n",
       "      <td>제주</td>\n",
       "      <td>2</td>\n",
       "      <td>0</td>\n",
       "      <td>37.500000</td>\n",
       "      <td>3.645</td>\n",
       "      <td>1025.200000</td>\n",
       "      <td>1028.650000</td>\n",
       "      <td>1021.550000</td>\n",
       "      <td>0.350000</td>\n",
       "      <td>...</td>\n",
       "      <td>4.800000</td>\n",
       "      <td>8.450000</td>\n",
       "      <td>66.605072</td>\n",
       "      <td>47.300000</td>\n",
       "      <td>13.8</td>\n",
       "      <td>85893.0</td>\n",
       "      <td>624395.0</td>\n",
       "      <td>53.0</td>\n",
       "      <td>15.4</td>\n",
       "      <td>8.4</td>\n",
       "    </tr>\n",
       "    <tr>\n",
       "      <th>49670</th>\n",
       "      <td>20151231</td>\n",
       "      <td>충남</td>\n",
       "      <td>1</td>\n",
       "      <td>0</td>\n",
       "      <td>53.950000</td>\n",
       "      <td>7.755</td>\n",
       "      <td>1025.483333</td>\n",
       "      <td>1028.266667</td>\n",
       "      <td>1021.383333</td>\n",
       "      <td>0.066667</td>\n",
       "      <td>...</td>\n",
       "      <td>1.233333</td>\n",
       "      <td>3.833333</td>\n",
       "      <td>42.130435</td>\n",
       "      <td>61.000000</td>\n",
       "      <td>16.4</td>\n",
       "      <td>341214.0</td>\n",
       "      <td>2077649.0</td>\n",
       "      <td>57.0</td>\n",
       "      <td>12.0</td>\n",
       "      <td>3.0</td>\n",
       "    </tr>\n",
       "    <tr>\n",
       "      <th>49671</th>\n",
       "      <td>20151231</td>\n",
       "      <td>충남</td>\n",
       "      <td>2</td>\n",
       "      <td>0</td>\n",
       "      <td>53.950000</td>\n",
       "      <td>7.755</td>\n",
       "      <td>1025.483333</td>\n",
       "      <td>1028.266667</td>\n",
       "      <td>1021.383333</td>\n",
       "      <td>0.066667</td>\n",
       "      <td>...</td>\n",
       "      <td>1.233333</td>\n",
       "      <td>3.833333</td>\n",
       "      <td>42.130435</td>\n",
       "      <td>61.000000</td>\n",
       "      <td>16.4</td>\n",
       "      <td>341214.0</td>\n",
       "      <td>2077649.0</td>\n",
       "      <td>57.0</td>\n",
       "      <td>12.0</td>\n",
       "      <td>3.0</td>\n",
       "    </tr>\n",
       "    <tr>\n",
       "      <th>49672</th>\n",
       "      <td>20151231</td>\n",
       "      <td>충북</td>\n",
       "      <td>1</td>\n",
       "      <td>1</td>\n",
       "      <td>18.075000</td>\n",
       "      <td>4.600</td>\n",
       "      <td>1005.750000</td>\n",
       "      <td>1008.925000</td>\n",
       "      <td>1002.225000</td>\n",
       "      <td>0.200000</td>\n",
       "      <td>...</td>\n",
       "      <td>1.550000</td>\n",
       "      <td>4.225000</td>\n",
       "      <td>46.115942</td>\n",
       "      <td>72.300000</td>\n",
       "      <td>14.8</td>\n",
       "      <td>234813.0</td>\n",
       "      <td>1583952.0</td>\n",
       "      <td>54.0</td>\n",
       "      <td>10.3</td>\n",
       "      <td>0.3</td>\n",
       "    </tr>\n",
       "    <tr>\n",
       "      <th>49673</th>\n",
       "      <td>20151231</td>\n",
       "      <td>충북</td>\n",
       "      <td>2</td>\n",
       "      <td>0</td>\n",
       "      <td>18.075000</td>\n",
       "      <td>4.600</td>\n",
       "      <td>1005.750000</td>\n",
       "      <td>1008.925000</td>\n",
       "      <td>1002.225000</td>\n",
       "      <td>0.200000</td>\n",
       "      <td>...</td>\n",
       "      <td>1.550000</td>\n",
       "      <td>4.225000</td>\n",
       "      <td>46.115942</td>\n",
       "      <td>72.300000</td>\n",
       "      <td>14.8</td>\n",
       "      <td>234813.0</td>\n",
       "      <td>1583952.0</td>\n",
       "      <td>54.0</td>\n",
       "      <td>10.3</td>\n",
       "      <td>0.3</td>\n",
       "    </tr>\n",
       "  </tbody>\n",
       "</table>\n",
       "<p>49674 rows × 23 columns</p>\n",
       "</div>"
      ],
      "text/plain": [
       "            tma stn_id  sex  frequency     ssrate  sum_gsr       avg_pa  \\\n",
       "0      20120101     강원    1          3  38.600000    7.390   994.884615   \n",
       "1      20120101     강원    2          3  38.600000    7.390   994.884615   \n",
       "2      20120101     경기    1          4  26.780000    4.610  1017.160000   \n",
       "3      20120101     경기    2          5  26.780000    4.610  1017.160000   \n",
       "4      20120101     경남    1          2  22.835714    5.905  1014.842857   \n",
       "...         ...    ...  ...        ...        ...      ...          ...   \n",
       "49669  20151231     제주    2          0  37.500000    3.645  1025.200000   \n",
       "49670  20151231     충남    1          0  53.950000    7.755  1025.483333   \n",
       "49671  20151231     충남    2          0  53.950000    7.755  1025.483333   \n",
       "49672  20151231     충북    1          1  18.075000    4.600  1005.750000   \n",
       "49673  20151231     충북    2          0  18.075000    4.600  1005.750000   \n",
       "\n",
       "            max_pa       min_pa    sum_rn  ...    avg_ws    max_ws       pm10  \\\n",
       "0       996.923077   991.676923  0.180000  ...  2.115385  5.292308  63.822062   \n",
       "1       996.923077   991.676923  0.180000  ...  2.115385  5.292308  63.822062   \n",
       "2      1019.280000  1014.340000  0.000000  ...  1.720000  6.300000  97.238636   \n",
       "3      1019.280000  1014.340000  0.000000  ...  1.720000  6.300000  97.238636   \n",
       "4      1016.885714  1011.742857  0.075000  ...  2.250000  6.500000  35.263889   \n",
       "...            ...          ...       ...  ...       ...       ...        ...   \n",
       "49669  1028.650000  1021.550000  0.350000  ...  4.800000  8.450000  66.605072   \n",
       "49670  1028.266667  1021.383333  0.066667  ...  1.233333  3.833333  42.130435   \n",
       "49671  1028.266667  1021.383333  0.066667  ...  1.233333  3.833333  42.130435   \n",
       "49672  1008.925000  1002.225000  0.200000  ...  1.550000  4.225000  46.115942   \n",
       "49673  1008.925000  1002.225000  0.200000  ...  1.550000  4.225000  46.115942   \n",
       "\n",
       "         avg_rhm  elder_rate      elder   total_pop  fct_rhm  fct_max_ta  \\\n",
       "0      63.536364        15.2   233959.0   1535335.0     30.0         1.0   \n",
       "1      63.536364        15.2   233959.0   1535335.0     30.0         1.0   \n",
       "2      71.220000         9.0  1078741.0  11948596.0     44.0         0.9   \n",
       "3      71.220000         9.0  1078741.0  11948596.0     44.0         0.9   \n",
       "4      57.700000        12.1   400755.0   3309559.0     30.0         6.0   \n",
       "...          ...         ...        ...         ...      ...         ...   \n",
       "49669  47.300000        13.8    85893.0    624395.0     53.0        15.4   \n",
       "49670  61.000000        16.4   341214.0   2077649.0     57.0        12.0   \n",
       "49671  61.000000        16.4   341214.0   2077649.0     57.0        12.0   \n",
       "49672  72.300000        14.8   234813.0   1583952.0     54.0        10.3   \n",
       "49673  72.300000        14.8   234813.0   1583952.0     54.0        10.3   \n",
       "\n",
       "       fct_min_ta  \n",
       "0           -11.9  \n",
       "1           -11.9  \n",
       "2            -9.7  \n",
       "3            -9.7  \n",
       "4            -4.9  \n",
       "...           ...  \n",
       "49669         8.4  \n",
       "49670         3.0  \n",
       "49671         3.0  \n",
       "49672         0.3  \n",
       "49673         0.3  \n",
       "\n",
       "[49674 rows x 23 columns]"
      ]
     },
     "execution_count": 18,
     "metadata": {},
     "output_type": "execute_result"
    }
   ],
   "source": [
    "train= pd.read_csv('train_final.csv',encoding='euc-kr')\n",
    "train"
   ]
  },
  {
   "cell_type": "code",
   "execution_count": 19,
   "metadata": {
    "ExecuteTime": {
     "end_time": "2022-08-07T07:28:17.137867Z",
     "start_time": "2022-08-07T07:28:17.049962Z"
    }
   },
   "outputs": [
    {
     "data": {
      "text/html": [
       "<div>\n",
       "<style scoped>\n",
       "    .dataframe tbody tr th:only-of-type {\n",
       "        vertical-align: middle;\n",
       "    }\n",
       "\n",
       "    .dataframe tbody tr th {\n",
       "        vertical-align: top;\n",
       "    }\n",
       "\n",
       "    .dataframe thead th {\n",
       "        text-align: right;\n",
       "    }\n",
       "</style>\n",
       "<table border=\"1\" class=\"dataframe\">\n",
       "  <thead>\n",
       "    <tr style=\"text-align: right;\">\n",
       "      <th></th>\n",
       "      <th>tma</th>\n",
       "      <th>stn_id</th>\n",
       "      <th>ssrate</th>\n",
       "      <th>sum_gsr</th>\n",
       "      <th>avg_pa</th>\n",
       "      <th>max_pa</th>\n",
       "      <th>min_pa</th>\n",
       "      <th>sum_rn</th>\n",
       "      <th>avg_ta</th>\n",
       "      <th>max_ta</th>\n",
       "      <th>...</th>\n",
       "      <th>fct_rhm</th>\n",
       "      <th>fct_max_ta</th>\n",
       "      <th>fct_min_ta</th>\n",
       "      <th>sex</th>\n",
       "      <th>frequency</th>\n",
       "      <th>month</th>\n",
       "      <th>elder_rate</th>\n",
       "      <th>elder</th>\n",
       "      <th>total_pop</th>\n",
       "      <th>avg_rhm</th>\n",
       "    </tr>\n",
       "  </thead>\n",
       "  <tbody>\n",
       "    <tr>\n",
       "      <th>0</th>\n",
       "      <td>20160101</td>\n",
       "      <td>강원</td>\n",
       "      <td>54.076923</td>\n",
       "      <td>8.684000</td>\n",
       "      <td>1001.715385</td>\n",
       "      <td>1004.738462</td>\n",
       "      <td>998.107692</td>\n",
       "      <td>0.0</td>\n",
       "      <td>0.530769</td>\n",
       "      <td>4.930769</td>\n",
       "      <td>...</td>\n",
       "      <td>60</td>\n",
       "      <td>8.0</td>\n",
       "      <td>0.0</td>\n",
       "      <td>1</td>\n",
       "      <td>NaN</td>\n",
       "      <td>201601</td>\n",
       "      <td>16.9</td>\n",
       "      <td>262507</td>\n",
       "      <td>1549193</td>\n",
       "      <td>65.372727</td>\n",
       "    </tr>\n",
       "    <tr>\n",
       "      <th>1</th>\n",
       "      <td>20160101</td>\n",
       "      <td>경기</td>\n",
       "      <td>20.360000</td>\n",
       "      <td>4.520000</td>\n",
       "      <td>1023.560000</td>\n",
       "      <td>1026.580000</td>\n",
       "      <td>1019.740000</td>\n",
       "      <td>0.0</td>\n",
       "      <td>-0.300000</td>\n",
       "      <td>4.540000</td>\n",
       "      <td>...</td>\n",
       "      <td>66</td>\n",
       "      <td>8.0</td>\n",
       "      <td>-1.1</td>\n",
       "      <td>1</td>\n",
       "      <td>NaN</td>\n",
       "      <td>201601</td>\n",
       "      <td>10.6</td>\n",
       "      <td>1325202</td>\n",
       "      <td>12536474</td>\n",
       "      <td>79.280000</td>\n",
       "    </tr>\n",
       "    <tr>\n",
       "      <th>2</th>\n",
       "      <td>20160101</td>\n",
       "      <td>경남</td>\n",
       "      <td>82.928571</td>\n",
       "      <td>10.187143</td>\n",
       "      <td>1022.992857</td>\n",
       "      <td>1025.892857</td>\n",
       "      <td>1020.628571</td>\n",
       "      <td>0.0</td>\n",
       "      <td>1.764286</td>\n",
       "      <td>9.057143</td>\n",
       "      <td>...</td>\n",
       "      <td>50</td>\n",
       "      <td>14.0</td>\n",
       "      <td>-1.0</td>\n",
       "      <td>1</td>\n",
       "      <td>NaN</td>\n",
       "      <td>201601</td>\n",
       "      <td>13.8</td>\n",
       "      <td>465551</td>\n",
       "      <td>3364764</td>\n",
       "      <td>64.800000</td>\n",
       "    </tr>\n",
       "    <tr>\n",
       "      <th>3</th>\n",
       "      <td>20160101</td>\n",
       "      <td>경북</td>\n",
       "      <td>75.678571</td>\n",
       "      <td>9.735000</td>\n",
       "      <td>1014.507143</td>\n",
       "      <td>1017.521429</td>\n",
       "      <td>1011.521429</td>\n",
       "      <td>0.0</td>\n",
       "      <td>1.078571</td>\n",
       "      <td>7.442857</td>\n",
       "      <td>...</td>\n",
       "      <td>60</td>\n",
       "      <td>11.0</td>\n",
       "      <td>2.0</td>\n",
       "      <td>1</td>\n",
       "      <td>NaN</td>\n",
       "      <td>201601</td>\n",
       "      <td>17.8</td>\n",
       "      <td>480913</td>\n",
       "      <td>2701160</td>\n",
       "      <td>62.000000</td>\n",
       "    </tr>\n",
       "    <tr>\n",
       "      <th>4</th>\n",
       "      <td>20160101</td>\n",
       "      <td>광주</td>\n",
       "      <td>66.300000</td>\n",
       "      <td>9.200000</td>\n",
       "      <td>1022.900000</td>\n",
       "      <td>1026.100000</td>\n",
       "      <td>1020.400000</td>\n",
       "      <td>0.0</td>\n",
       "      <td>3.200000</td>\n",
       "      <td>8.100000</td>\n",
       "      <td>...</td>\n",
       "      <td>55</td>\n",
       "      <td>13.0</td>\n",
       "      <td>4.0</td>\n",
       "      <td>1</td>\n",
       "      <td>NaN</td>\n",
       "      <td>201601</td>\n",
       "      <td>11.3</td>\n",
       "      <td>167123</td>\n",
       "      <td>1472802</td>\n",
       "      <td>73.100000</td>\n",
       "    </tr>\n",
       "    <tr>\n",
       "      <th>...</th>\n",
       "      <td>...</td>\n",
       "      <td>...</td>\n",
       "      <td>...</td>\n",
       "      <td>...</td>\n",
       "      <td>...</td>\n",
       "      <td>...</td>\n",
       "      <td>...</td>\n",
       "      <td>...</td>\n",
       "      <td>...</td>\n",
       "      <td>...</td>\n",
       "      <td>...</td>\n",
       "      <td>...</td>\n",
       "      <td>...</td>\n",
       "      <td>...</td>\n",
       "      <td>...</td>\n",
       "      <td>...</td>\n",
       "      <td>...</td>\n",
       "      <td>...</td>\n",
       "      <td>...</td>\n",
       "      <td>...</td>\n",
       "      <td>...</td>\n",
       "    </tr>\n",
       "    <tr>\n",
       "      <th>12439</th>\n",
       "      <td>20161231</td>\n",
       "      <td>전남</td>\n",
       "      <td>54.921429</td>\n",
       "      <td>7.558571</td>\n",
       "      <td>1020.385714</td>\n",
       "      <td>1021.942857</td>\n",
       "      <td>1019.114286</td>\n",
       "      <td>0.0</td>\n",
       "      <td>2.735714</td>\n",
       "      <td>8.528571</td>\n",
       "      <td>...</td>\n",
       "      <td>40</td>\n",
       "      <td>12.0</td>\n",
       "      <td>4.2</td>\n",
       "      <td>2</td>\n",
       "      <td>NaN</td>\n",
       "      <td>201612</td>\n",
       "      <td>21.0</td>\n",
       "      <td>398916</td>\n",
       "      <td>1903914</td>\n",
       "      <td>74.571429</td>\n",
       "    </tr>\n",
       "    <tr>\n",
       "      <th>12440</th>\n",
       "      <td>20161231</td>\n",
       "      <td>전북</td>\n",
       "      <td>20.400000</td>\n",
       "      <td>4.912500</td>\n",
       "      <td>1015.760000</td>\n",
       "      <td>1017.170000</td>\n",
       "      <td>1014.450000</td>\n",
       "      <td>0.1</td>\n",
       "      <td>0.690000</td>\n",
       "      <td>5.930000</td>\n",
       "      <td>...</td>\n",
       "      <td>50</td>\n",
       "      <td>9.0</td>\n",
       "      <td>-4.0</td>\n",
       "      <td>2</td>\n",
       "      <td>NaN</td>\n",
       "      <td>201612</td>\n",
       "      <td>18.3</td>\n",
       "      <td>341203</td>\n",
       "      <td>1864791</td>\n",
       "      <td>79.028571</td>\n",
       "    </tr>\n",
       "    <tr>\n",
       "      <th>12441</th>\n",
       "      <td>20161231</td>\n",
       "      <td>제주</td>\n",
       "      <td>62.500000</td>\n",
       "      <td>8.165000</td>\n",
       "      <td>1025.175000</td>\n",
       "      <td>1026.800000</td>\n",
       "      <td>1024.150000</td>\n",
       "      <td>0.0</td>\n",
       "      <td>6.700000</td>\n",
       "      <td>10.025000</td>\n",
       "      <td>...</td>\n",
       "      <td>55</td>\n",
       "      <td>13.3</td>\n",
       "      <td>6.1</td>\n",
       "      <td>2</td>\n",
       "      <td>NaN</td>\n",
       "      <td>201612</td>\n",
       "      <td>13.9</td>\n",
       "      <td>89189</td>\n",
       "      <td>641597</td>\n",
       "      <td>61.900000</td>\n",
       "    </tr>\n",
       "    <tr>\n",
       "      <th>12442</th>\n",
       "      <td>20161231</td>\n",
       "      <td>충남</td>\n",
       "      <td>25.416667</td>\n",
       "      <td>5.905000</td>\n",
       "      <td>1023.266667</td>\n",
       "      <td>1024.633333</td>\n",
       "      <td>1021.833333</td>\n",
       "      <td>0.0</td>\n",
       "      <td>1.316667</td>\n",
       "      <td>6.233333</td>\n",
       "      <td>...</td>\n",
       "      <td>53</td>\n",
       "      <td>11.0</td>\n",
       "      <td>-3.0</td>\n",
       "      <td>2</td>\n",
       "      <td>NaN</td>\n",
       "      <td>201612</td>\n",
       "      <td>16.7</td>\n",
       "      <td>350108</td>\n",
       "      <td>2096727</td>\n",
       "      <td>88.120000</td>\n",
       "    </tr>\n",
       "    <tr>\n",
       "      <th>12443</th>\n",
       "      <td>20161231</td>\n",
       "      <td>충북</td>\n",
       "      <td>17.500000</td>\n",
       "      <td>4.090000</td>\n",
       "      <td>1005.525000</td>\n",
       "      <td>1007.000000</td>\n",
       "      <td>1004.175000</td>\n",
       "      <td>0.0</td>\n",
       "      <td>-1.200000</td>\n",
       "      <td>3.450000</td>\n",
       "      <td>...</td>\n",
       "      <td>54</td>\n",
       "      <td>9.2</td>\n",
       "      <td>-4.8</td>\n",
       "      <td>2</td>\n",
       "      <td>NaN</td>\n",
       "      <td>201612</td>\n",
       "      <td>15.1</td>\n",
       "      <td>240690</td>\n",
       "      <td>1591625</td>\n",
       "      <td>80.475000</td>\n",
       "    </tr>\n",
       "  </tbody>\n",
       "</table>\n",
       "<p>12444 rows × 24 columns</p>\n",
       "</div>"
      ],
      "text/plain": [
       "            tma stn_id     ssrate    sum_gsr       avg_pa       max_pa  \\\n",
       "0      20160101     강원  54.076923   8.684000  1001.715385  1004.738462   \n",
       "1      20160101     경기  20.360000   4.520000  1023.560000  1026.580000   \n",
       "2      20160101     경남  82.928571  10.187143  1022.992857  1025.892857   \n",
       "3      20160101     경북  75.678571   9.735000  1014.507143  1017.521429   \n",
       "4      20160101     광주  66.300000   9.200000  1022.900000  1026.100000   \n",
       "...         ...    ...        ...        ...          ...          ...   \n",
       "12439  20161231     전남  54.921429   7.558571  1020.385714  1021.942857   \n",
       "12440  20161231     전북  20.400000   4.912500  1015.760000  1017.170000   \n",
       "12441  20161231     제주  62.500000   8.165000  1025.175000  1026.800000   \n",
       "12442  20161231     충남  25.416667   5.905000  1023.266667  1024.633333   \n",
       "12443  20161231     충북  17.500000   4.090000  1005.525000  1007.000000   \n",
       "\n",
       "            min_pa  sum_rn    avg_ta     max_ta  ...  fct_rhm  fct_max_ta  \\\n",
       "0       998.107692     0.0  0.530769   4.930769  ...       60         8.0   \n",
       "1      1019.740000     0.0 -0.300000   4.540000  ...       66         8.0   \n",
       "2      1020.628571     0.0  1.764286   9.057143  ...       50        14.0   \n",
       "3      1011.521429     0.0  1.078571   7.442857  ...       60        11.0   \n",
       "4      1020.400000     0.0  3.200000   8.100000  ...       55        13.0   \n",
       "...            ...     ...       ...        ...  ...      ...         ...   \n",
       "12439  1019.114286     0.0  2.735714   8.528571  ...       40        12.0   \n",
       "12440  1014.450000     0.1  0.690000   5.930000  ...       50         9.0   \n",
       "12441  1024.150000     0.0  6.700000  10.025000  ...       55        13.3   \n",
       "12442  1021.833333     0.0  1.316667   6.233333  ...       53        11.0   \n",
       "12443  1004.175000     0.0 -1.200000   3.450000  ...       54         9.2   \n",
       "\n",
       "       fct_min_ta  sex  frequency   month  elder_rate    elder  total_pop  \\\n",
       "0             0.0    1        NaN  201601        16.9   262507    1549193   \n",
       "1            -1.1    1        NaN  201601        10.6  1325202   12536474   \n",
       "2            -1.0    1        NaN  201601        13.8   465551    3364764   \n",
       "3             2.0    1        NaN  201601        17.8   480913    2701160   \n",
       "4             4.0    1        NaN  201601        11.3   167123    1472802   \n",
       "...           ...  ...        ...     ...         ...      ...        ...   \n",
       "12439         4.2    2        NaN  201612        21.0   398916    1903914   \n",
       "12440        -4.0    2        NaN  201612        18.3   341203    1864791   \n",
       "12441         6.1    2        NaN  201612        13.9    89189     641597   \n",
       "12442        -3.0    2        NaN  201612        16.7   350108    2096727   \n",
       "12443        -4.8    2        NaN  201612        15.1   240690    1591625   \n",
       "\n",
       "         avg_rhm  \n",
       "0      65.372727  \n",
       "1      79.280000  \n",
       "2      64.800000  \n",
       "3      62.000000  \n",
       "4      73.100000  \n",
       "...          ...  \n",
       "12439  74.571429  \n",
       "12440  79.028571  \n",
       "12441  61.900000  \n",
       "12442  88.120000  \n",
       "12443  80.475000  \n",
       "\n",
       "[12444 rows x 24 columns]"
      ]
     },
     "execution_count": 19,
     "metadata": {},
     "output_type": "execute_result"
    }
   ],
   "source": [
    "test= pd.read_csv('test_final.csv',encoding='euc-kr')\n",
    "test"
   ]
  },
  {
   "cell_type": "code",
   "execution_count": 20,
   "metadata": {
    "ExecuteTime": {
     "end_time": "2022-08-07T07:29:21.764191Z",
     "start_time": "2022-08-07T07:28:17.139759Z"
    }
   },
   "outputs": [],
   "source": [
    "train_2= pipeline_train(train)"
   ]
  },
  {
   "cell_type": "code",
   "execution_count": 21,
   "metadata": {
    "ExecuteTime": {
     "end_time": "2022-08-07T07:29:28.706796Z",
     "start_time": "2022-08-07T07:29:21.765967Z"
    },
    "scrolled": true
   },
   "outputs": [],
   "source": [
    "test_2 = pipeline_test(test)"
   ]
  },
  {
   "cell_type": "code",
   "execution_count": 22,
   "metadata": {
    "ExecuteTime": {
     "end_time": "2022-08-07T07:29:28.721758Z",
     "start_time": "2022-08-07T07:29:28.707794Z"
    }
   },
   "outputs": [],
   "source": [
    "test_2 = test_2[train_2.columns]"
   ]
  },
  {
   "cell_type": "code",
   "execution_count": 23,
   "metadata": {
    "ExecuteTime": {
     "end_time": "2022-08-07T07:29:28.736717Z",
     "start_time": "2022-08-07T07:29:28.727795Z"
    },
    "scrolled": true
   },
   "outputs": [
    {
     "data": {
      "text/plain": [
       "array([ True,  True,  True,  True,  True,  True,  True,  True,  True,\n",
       "        True,  True,  True,  True,  True,  True,  True,  True,  True,\n",
       "        True,  True,  True,  True,  True,  True,  True,  True,  True,\n",
       "        True,  True,  True,  True,  True,  True,  True,  True,  True,\n",
       "        True,  True,  True,  True,  True,  True,  True,  True,  True,\n",
       "        True])"
      ]
     },
     "execution_count": 23,
     "metadata": {},
     "output_type": "execute_result"
    }
   ],
   "source": [
    "#train과 test의 변수 순서를 맞춰주는 작업\n",
    "train_2.columns == test_2.columns"
   ]
  },
  {
   "cell_type": "markdown",
   "metadata": {},
   "source": [
    "# 모델링"
   ]
  },
  {
   "cell_type": "markdown",
   "metadata": {},
   "source": [
    "## light gbm을 실행시키기 위해서 범주형 변수들을 추가적으로 인코딩해줌"
   ]
  },
  {
   "cell_type": "markdown",
   "metadata": {},
   "source": [
    "1. 범주형 변수에 대한 더미 인코딩"
   ]
  },
  {
   "cell_type": "code",
   "execution_count": 24,
   "metadata": {
    "ExecuteTime": {
     "end_time": "2022-08-07T07:29:28.827091Z",
     "start_time": "2022-08-07T07:29:28.738712Z"
    }
   },
   "outputs": [],
   "source": [
    "dummy = pd.get_dummies(train_2[['season', 'holidays', 'cold_wave', 'heat_wave', 'sex', 'last_class', 'city']])\n",
    "train_2_dummy = pd.concat([train_2.drop(['stn_id', 'season', 'weekday', 'holidays', 'cold_wave', 'heat_wave', 'sex', \n",
    "                                         'last_class', 'city'], \n",
    "                                        axis = 1),\n",
    "                           dummy], axis  = 1)\n",
    "\n",
    "\n",
    "dummy = pd.get_dummies(test_2[['season', 'holidays', 'cold_wave', 'heat_wave', 'sex', 'last_class', 'city']])\n",
    "test_2_dummy = pd.concat([test_2.drop(['stn_id', 'season', 'weekday', 'holidays', 'cold_wave', 'heat_wave', 'sex', \n",
    "                                       'last_class', 'city'], \n",
    "                                      axis = 1),\n",
    "                           dummy], axis  = 1)"
   ]
  },
  {
   "cell_type": "markdown",
   "metadata": {},
   "source": [
    "2. 순서형 변수들에 대해 라벨인코딩"
   ]
  },
  {
   "cell_type": "code",
   "execution_count": 25,
   "metadata": {
    "ExecuteTime": {
     "end_time": "2022-08-07T07:29:28.916950Z",
     "start_time": "2022-08-07T07:29:28.828007Z"
    }
   },
   "outputs": [],
   "source": [
    "for col in ['dtr_class', 'elder_rate_class','fct_dtr_class', 'pm10_class','stroke', 'year'] :\n",
    "    le = LabelEncoder()\n",
    "    le = le.fit(train_2_dummy[col])\n",
    "    train_2_dummy[col] = le.transform(train_2_dummy[col])\n",
    "    \n",
    "for col in ['dtr_class', 'elder_rate_class','fct_dtr_class', 'pm10_class','stroke', 'year'] :\n",
    "    le = LabelEncoder()\n",
    "    le = le.fit(test_2_dummy[col])\n",
    "    test_2_dummy[col] = le.transform(test_2_dummy[col]) \n",
    "    \n",
    "train_2_dummy.drop('tma', axis = 1, inplace = True)\n",
    "test_2_dummy.drop('tma', axis = 1, inplace = True)\n"
   ]
  },
  {
   "cell_type": "code",
   "execution_count": 26,
   "metadata": {
    "ExecuteTime": {
     "end_time": "2022-08-07T07:29:28.946959Z",
     "start_time": "2022-08-07T07:29:28.918636Z"
    }
   },
   "outputs": [],
   "source": [
    "from sklearn.model_selection import train_test_split\n",
    "\n",
    "x_train,x_valid,y_train,y_valid = train_test_split(train_2_dummy.drop(['frequency', 'elder_rate', 'elder'], axis = 1), \n",
    "                                                  train_2_dummy['frequency'], \n",
    "                                                  test_size = 0.2, \n",
    "                                                  random_state = 220617, )\n",
    "test_2_dummy.drop([ 'frequency', 'elder_rate', 'elder'], axis = 1, inplace = True)"
   ]
  },
  {
   "cell_type": "markdown",
   "metadata": {},
   "source": [
    "## Metric"
   ]
  },
  {
   "cell_type": "code",
   "execution_count": 27,
   "metadata": {
    "ExecuteTime": {
     "end_time": "2022-08-07T07:29:28.962139Z",
     "start_time": "2022-08-07T07:29:28.948407Z"
    }
   },
   "outputs": [],
   "source": [
    "def rmse(pred, true) :\n",
    "    rmse = math.sqrt(mean_squared_error(pred, true))\n",
    "    return rmse"
   ]
  },
  {
   "cell_type": "markdown",
   "metadata": {},
   "source": [
    "## Hyperparameter tuning\n",
    "\n",
    "최적의 모델을 찾고자 랜덤서치를 이용하여 모수를 튜닝함"
   ]
  },
  {
   "cell_type": "code",
   "execution_count": 28,
   "metadata": {
    "ExecuteTime": {
     "end_time": "2022-08-07T07:29:28.977221Z",
     "start_time": "2022-08-07T07:29:28.964005Z"
    }
   },
   "outputs": [],
   "source": [
    "params = {'n_estimators' : 60,\n",
    "          'objective' : 'regression',\n",
    "          'metric' : 'rmse',\n",
    "          'boosting_type' : 'gbdt',\n",
    "          'n_jobs' : -1\n",
    "          }"
   ]
  },
  {
   "cell_type": "code",
   "execution_count": 29,
   "metadata": {
    "ExecuteTime": {
     "end_time": "2022-08-07T07:29:28.992978Z",
     "start_time": "2022-08-07T07:29:28.979227Z"
    }
   },
   "outputs": [],
   "source": [
    "def train_score(model, x_train, y_train, x_test, y_test):\n",
    "    lgb_model = model.fit(x_train,y_train)\n",
    "    y_pred = lgb_model.predict(x_valid)\n",
    "    rmse_ = rmse(y_pred, y_valid)\n",
    "    return rmse_"
   ]
  },
  {
   "cell_type": "code",
   "execution_count": 30,
   "metadata": {
    "ExecuteTime": {
     "end_time": "2022-08-07T07:29:29.383044Z",
     "start_time": "2022-08-07T07:29:28.994809Z"
    }
   },
   "outputs": [],
   "source": [
    "from lightgbm.sklearn import LGBMRegressor\n",
    "from hyperopt import fmin, hp, tpe, space_eval\n",
    "from functools import partial\n",
    "from sklearn.multioutput import MultiOutputRegressor\n",
    "\n",
    "\n",
    "hyper_space  ={'max_depth': hp.choice('max_depth',np.arange(-1, 16, 1, dtype=int)),\n",
    "            \"bagging_fraction\": hp.uniform('bagging_fraction', 0, 1.0),\n",
    "            'learning_rate': hp.loguniform('learning_rate', np.log(0.01), np.log(0.2)),\n",
    "            'colsample_bytree': hp.uniform('colsample_bytree', 0, 1.0),\n",
    "            'feature_fraction': hp.uniform('feature_fraction',0, 1.0),\n",
    "            'num_leaves': hp.choice('num_leaves',np.arange(16, 1024, 16, dtype=int)),\n",
    "            'subsample': hp.uniform('subsample', 0, 1.0),\n",
    "            'reg_alpha': hp.uniform('reg_alpha', 0, 1.0),\n",
    "            'reg_lambda': hp.uniform('reg_lambda', 0, 1.0),\n",
    "            'min_child_samples ': hp.choice('min_child_samples',np.arange(5,25,5, dtype=int))}"
   ]
  },
  {
   "cell_type": "code",
   "execution_count": 31,
   "metadata": {
    "ExecuteTime": {
     "end_time": "2022-08-07T07:29:29.398403Z",
     "start_time": "2022-08-07T07:29:29.385044Z"
    }
   },
   "outputs": [],
   "source": [
    "def evaluate(params, x_train, y_train, x_test, y_test):\n",
    "  # Initilize instance of estimator\n",
    "    est = LGBMRegressor(**params, random_state = 220167)\n",
    "  #score\n",
    "    score = train_score(est, x_train, y_train, x_valid, y_valid)\n",
    "    return score"
   ]
  },
  {
   "cell_type": "code",
   "execution_count": 32,
   "metadata": {
    "ExecuteTime": {
     "end_time": "2022-08-07T07:29:29.413376Z",
     "start_time": "2022-08-07T07:29:29.400266Z"
    }
   },
   "outputs": [],
   "source": [
    "est = LGBMRegressor(random_state = 220167)\n",
    "\n",
    "hyperopt_objective = lambda params: evaluate(params, x_train, y_train, x_valid, y_valid)\n",
    "\n",
    "algo = partial(tpe.suggest, n_startup_jobs=20, gamma=0.25, n_EI_candidates=24)"
   ]
  },
  {
   "cell_type": "code",
   "execution_count": 33,
   "metadata": {
    "ExecuteTime": {
     "end_time": "2022-08-07T07:29:29.428656Z",
     "start_time": "2022-08-07T07:29:29.414716Z"
    },
    "scrolled": true
   },
   "outputs": [],
   "source": [
    "#best_vals = fmin(hyperopt_objective, space=hyper_space, algo=algo, max_evals=3000)"
   ]
  },
  {
   "cell_type": "code",
   "execution_count": 34,
   "metadata": {
    "ExecuteTime": {
     "end_time": "2022-08-07T07:29:29.444364Z",
     "start_time": "2022-08-07T07:29:29.430328Z"
    },
    "scrolled": true
   },
   "outputs": [],
   "source": [
    "#best_params = space_eval(hyper_space, best_vals)\n",
    "#best_params\n",
    "\n",
    "# {'bagging_fraction': 0.5091388111821784,\n",
    "#  'colsample_bytree': 0.07625138458134776,\n",
    "#  'feature_fraction': 0.9616930053376547,\n",
    "#  'learning_rate': 0.0729000161189781,\n",
    "#  'max_depth': 4,\n",
    "#  'min_child_samples ': 5,\n",
    "#  'num_leaves': 16,\n",
    "#  'reg_alpha': 0.28556900523112916,\n",
    "#  'reg_lambda': 0.28556900523112916,\n",
    "#  'subsample': 0.2714543735190671}"
   ]
  },
  {
   "cell_type": "markdown",
   "metadata": {},
   "source": [
    "## train"
   ]
  },
  {
   "cell_type": "code",
   "execution_count": 35,
   "metadata": {
    "ExecuteTime": {
     "end_time": "2022-08-07T07:29:29.730664Z",
     "start_time": "2022-08-07T07:29:29.446519Z"
    }
   },
   "outputs": [
    {
     "name": "stdout",
     "output_type": "stream",
     "text": [
      "[LightGBM] [Warning] feature_fraction is set=0.9616930053376547, colsample_bytree=0.07625138458134775 will be ignored. Current value: feature_fraction=0.9616930053376547\n",
      "[LightGBM] [Warning] bagging_fraction is set=0.5091388111821784, subsample=0.2714543735190671 will be ignored. Current value: bagging_fraction=0.5091388111821784\n"
     ]
    }
   ],
   "source": [
    "#tuning결과 반영\n",
    "lgbm = lgb.LGBMRegressor(random_state = 220167,\n",
    "                         n_estimators= 60,\n",
    "                          bagging_fraction= 0.5091388111821784, colsample_bytree= 0.07625138458134776,\n",
    "                         feature_fraction= 0.9616930053376547, learning_rate= 0.0729000161189781,\n",
    "                         max_depth= 4, num_leaves= 16, subsample= 0.2714543735190671,\n",
    "                         min_child_samples = 5, reg_alpha = 0.28556900523112916,\n",
    "                         reg_lambda = 0.28556900523112916\n",
    "                        )\n",
    "lgbm.fit(x_train, y_train)\n",
    "y_pred = lgbm.predict(x_valid)"
   ]
  },
  {
   "cell_type": "markdown",
   "metadata": {},
   "source": [
    "### 전체 train에 대하여 재학습 "
   ]
  },
  {
   "cell_type": "markdown",
   "metadata": {},
   "source": [
    "전체 train에 대해 학습하여 모델의 성능을 높이고자 함"
   ]
  },
  {
   "cell_type": "code",
   "execution_count": 36,
   "metadata": {
    "ExecuteTime": {
     "end_time": "2022-08-07T07:29:29.746266Z",
     "start_time": "2022-08-07T07:29:29.734592Z"
    }
   },
   "outputs": [],
   "source": [
    "x_train_all = train_2_dummy.drop(['frequency', 'elder_rate', 'elder'], axis = 1) \n",
    "y_train_all = train_2_dummy['frequency']"
   ]
  },
  {
   "cell_type": "code",
   "execution_count": 37,
   "metadata": {
    "ExecuteTime": {
     "end_time": "2022-08-07T07:29:30.124197Z",
     "start_time": "2022-08-07T07:29:29.748203Z"
    }
   },
   "outputs": [
    {
     "name": "stdout",
     "output_type": "stream",
     "text": [
      "[LightGBM] [Warning] feature_fraction is set=0.9616930053376547, colsample_bytree=0.07625138458134775 will be ignored. Current value: feature_fraction=0.9616930053376547\n",
      "[LightGBM] [Warning] bagging_fraction is set=0.5091388111821784, subsample=0.2714543735190671 will be ignored. Current value: bagging_fraction=0.5091388111821784\n"
     ]
    }
   ],
   "source": [
    "lgbm.fit(x_train_all, y_train_all)\n",
    "y_pred = lgbm.predict(x_valid)"
   ]
  },
  {
   "cell_type": "code",
   "execution_count": 38,
   "metadata": {
    "ExecuteTime": {
     "end_time": "2022-08-07T07:29:30.138901Z",
     "start_time": "2022-08-07T07:29:30.126192Z"
    }
   },
   "outputs": [
    {
     "data": {
      "text/plain": [
       "1.2104832612470664"
      ]
     },
     "execution_count": 38,
     "metadata": {},
     "output_type": "execute_result"
    }
   ],
   "source": [
    "rmse(y_pred,y_valid)"
   ]
  },
  {
   "cell_type": "markdown",
   "metadata": {},
   "source": [
    "## 변수 중요도"
   ]
  },
  {
   "cell_type": "code",
   "execution_count": 39,
   "metadata": {
    "ExecuteTime": {
     "end_time": "2022-08-07T07:29:30.797310Z",
     "start_time": "2022-08-07T07:29:30.141897Z"
    }
   },
   "outputs": [
    {
     "data": {
      "text/plain": [
       "<AxesSubplot:title={'center':'Feature importance'}, xlabel='Feature importance', ylabel='Features'>"
      ]
     },
     "execution_count": 39,
     "metadata": {},
     "output_type": "execute_result"
    },
    {
     "data": {
      "image/png": "[encoded data removed]",
      "text/plain": [
       "<Figure size 720x864 with 1 Axes>"
      ]
     },
     "metadata": {
      "needs_background": "light"
     },
     "output_type": "display_data"
    }
   ],
   "source": [
    "fig, ax = plt.subplots(figsize = (10, 12))\n",
    "\n",
    "lgb.plot_importance(lgbm,ax =ax,max_num_features=20)\n"
   ]
  },
  {
   "cell_type": "markdown",
   "metadata": {},
   "source": [
    "# 파일 저장"
   ]
  },
  {
   "cell_type": "markdown",
   "metadata": {},
   "source": [
    "최종 예측값에 대하여 음수가 나올 경우를 대비하여 최댓값을 0으로 설정하는 작업을 추가로 실시하여 csv 파일 저장"
   ]
  },
  {
   "cell_type": "code",
   "execution_count": 40,
   "metadata": {
    "ExecuteTime": {
     "end_time": "2022-08-07T07:29:30.842318Z",
     "start_time": "2022-08-07T07:29:30.801535Z"
    },
    "scrolled": true
   },
   "outputs": [],
   "source": [
    "final_pred = lgbm.predict(test_2_dummy)\n",
    "final_pred = np.maximum(0, final_pred)"
   ]
  },
  {
   "cell_type": "code",
   "execution_count": 41,
   "metadata": {
    "ExecuteTime": {
     "end_time": "2022-08-07T07:29:30.872238Z",
     "start_time": "2022-08-07T07:29:30.844313Z"
    }
   },
   "outputs": [
    {
     "data": {
      "text/html": [
       "<div>\n",
       "<style scoped>\n",
       "    .dataframe tbody tr th:only-of-type {\n",
       "        vertical-align: middle;\n",
       "    }\n",
       "\n",
       "    .dataframe tbody tr th {\n",
       "        vertical-align: top;\n",
       "    }\n",
       "\n",
       "    .dataframe thead th {\n",
       "        text-align: right;\n",
       "    }\n",
       "</style>\n",
       "<table border=\"1\" class=\"dataframe\">\n",
       "  <thead>\n",
       "    <tr style=\"text-align: right;\">\n",
       "      <th></th>\n",
       "      <th>yyyymmdd</th>\n",
       "      <th>area</th>\n",
       "      <th>sex</th>\n",
       "      <th>frequency</th>\n",
       "    </tr>\n",
       "  </thead>\n",
       "  <tbody>\n",
       "    <tr>\n",
       "      <th>0</th>\n",
       "      <td>2016-01-01</td>\n",
       "      <td>강원</td>\n",
       "      <td>1</td>\n",
       "      <td>NaN</td>\n",
       "    </tr>\n",
       "    <tr>\n",
       "      <th>1</th>\n",
       "      <td>2016-01-01</td>\n",
       "      <td>경기</td>\n",
       "      <td>1</td>\n",
       "      <td>NaN</td>\n",
       "    </tr>\n",
       "    <tr>\n",
       "      <th>2</th>\n",
       "      <td>2016-01-01</td>\n",
       "      <td>경남</td>\n",
       "      <td>1</td>\n",
       "      <td>NaN</td>\n",
       "    </tr>\n",
       "    <tr>\n",
       "      <th>3</th>\n",
       "      <td>2016-01-01</td>\n",
       "      <td>경북</td>\n",
       "      <td>1</td>\n",
       "      <td>NaN</td>\n",
       "    </tr>\n",
       "    <tr>\n",
       "      <th>4</th>\n",
       "      <td>2016-01-01</td>\n",
       "      <td>광주</td>\n",
       "      <td>1</td>\n",
       "      <td>NaN</td>\n",
       "    </tr>\n",
       "    <tr>\n",
       "      <th>...</th>\n",
       "      <td>...</td>\n",
       "      <td>...</td>\n",
       "      <td>...</td>\n",
       "      <td>...</td>\n",
       "    </tr>\n",
       "    <tr>\n",
       "      <th>12439</th>\n",
       "      <td>2016-12-31</td>\n",
       "      <td>전남</td>\n",
       "      <td>2</td>\n",
       "      <td>NaN</td>\n",
       "    </tr>\n",
       "    <tr>\n",
       "      <th>12440</th>\n",
       "      <td>2016-12-31</td>\n",
       "      <td>전북</td>\n",
       "      <td>2</td>\n",
       "      <td>NaN</td>\n",
       "    </tr>\n",
       "    <tr>\n",
       "      <th>12441</th>\n",
       "      <td>2016-12-31</td>\n",
       "      <td>제주</td>\n",
       "      <td>2</td>\n",
       "      <td>NaN</td>\n",
       "    </tr>\n",
       "    <tr>\n",
       "      <th>12442</th>\n",
       "      <td>2016-12-31</td>\n",
       "      <td>충남</td>\n",
       "      <td>2</td>\n",
       "      <td>NaN</td>\n",
       "    </tr>\n",
       "    <tr>\n",
       "      <th>12443</th>\n",
       "      <td>2016-12-31</td>\n",
       "      <td>충북</td>\n",
       "      <td>2</td>\n",
       "      <td>NaN</td>\n",
       "    </tr>\n",
       "  </tbody>\n",
       "</table>\n",
       "<p>12444 rows × 4 columns</p>\n",
       "</div>"
      ],
      "text/plain": [
       "         yyyymmdd area  sex  frequency\n",
       "0      2016-01-01   강원    1        NaN\n",
       "1      2016-01-01   경기    1        NaN\n",
       "2      2016-01-01   경남    1        NaN\n",
       "3      2016-01-01   경북    1        NaN\n",
       "4      2016-01-01   광주    1        NaN\n",
       "...           ...  ...  ...        ...\n",
       "12439  2016-12-31   전남    2        NaN\n",
       "12440  2016-12-31   전북    2        NaN\n",
       "12441  2016-12-31   제주    2        NaN\n",
       "12442  2016-12-31   충남    2        NaN\n",
       "12443  2016-12-31   충북    2        NaN\n",
       "\n",
       "[12444 rows x 4 columns]"
      ]
     },
     "execution_count": 41,
     "metadata": {},
     "output_type": "execute_result"
    }
   ],
   "source": [
    "submission = pd.read_csv('2-2_검증데이터셋.csv', encoding = 'euc-kr')\n",
    "submission"
   ]
  },
  {
   "cell_type": "code",
   "execution_count": 42,
   "metadata": {
    "ExecuteTime": {
     "end_time": "2022-08-07T07:29:30.902228Z",
     "start_time": "2022-08-07T07:29:30.874233Z"
    },
    "scrolled": false
   },
   "outputs": [
    {
     "data": {
      "text/html": [
       "<div>\n",
       "<style scoped>\n",
       "    .dataframe tbody tr th:only-of-type {\n",
       "        vertical-align: middle;\n",
       "    }\n",
       "\n",
       "    .dataframe tbody tr th {\n",
       "        vertical-align: top;\n",
       "    }\n",
       "\n",
       "    .dataframe thead th {\n",
       "        text-align: right;\n",
       "    }\n",
       "</style>\n",
       "<table border=\"1\" class=\"dataframe\">\n",
       "  <thead>\n",
       "    <tr style=\"text-align: right;\">\n",
       "      <th></th>\n",
       "      <th>yyyymmdd</th>\n",
       "      <th>area</th>\n",
       "      <th>sex</th>\n",
       "      <th>frequency</th>\n",
       "    </tr>\n",
       "  </thead>\n",
       "  <tbody>\n",
       "    <tr>\n",
       "      <th>0</th>\n",
       "      <td>2016-01-01</td>\n",
       "      <td>강원</td>\n",
       "      <td>1</td>\n",
       "      <td>1.170891</td>\n",
       "    </tr>\n",
       "    <tr>\n",
       "      <th>1</th>\n",
       "      <td>2016-01-01</td>\n",
       "      <td>경기</td>\n",
       "      <td>1</td>\n",
       "      <td>4.528995</td>\n",
       "    </tr>\n",
       "    <tr>\n",
       "      <th>2</th>\n",
       "      <td>2016-01-01</td>\n",
       "      <td>경남</td>\n",
       "      <td>1</td>\n",
       "      <td>2.049701</td>\n",
       "    </tr>\n",
       "    <tr>\n",
       "      <th>3</th>\n",
       "      <td>2016-01-01</td>\n",
       "      <td>경북</td>\n",
       "      <td>1</td>\n",
       "      <td>1.915358</td>\n",
       "    </tr>\n",
       "    <tr>\n",
       "      <th>4</th>\n",
       "      <td>2016-01-01</td>\n",
       "      <td>광주</td>\n",
       "      <td>1</td>\n",
       "      <td>0.704487</td>\n",
       "    </tr>\n",
       "    <tr>\n",
       "      <th>...</th>\n",
       "      <td>...</td>\n",
       "      <td>...</td>\n",
       "      <td>...</td>\n",
       "      <td>...</td>\n",
       "    </tr>\n",
       "    <tr>\n",
       "      <th>12439</th>\n",
       "      <td>2016-12-31</td>\n",
       "      <td>전남</td>\n",
       "      <td>2</td>\n",
       "      <td>2.590440</td>\n",
       "    </tr>\n",
       "    <tr>\n",
       "      <th>12440</th>\n",
       "      <td>2016-12-31</td>\n",
       "      <td>전북</td>\n",
       "      <td>2</td>\n",
       "      <td>2.414557</td>\n",
       "    </tr>\n",
       "    <tr>\n",
       "      <th>12441</th>\n",
       "      <td>2016-12-31</td>\n",
       "      <td>제주</td>\n",
       "      <td>2</td>\n",
       "      <td>0.495022</td>\n",
       "    </tr>\n",
       "    <tr>\n",
       "      <th>12442</th>\n",
       "      <td>2016-12-31</td>\n",
       "      <td>충남</td>\n",
       "      <td>2</td>\n",
       "      <td>1.824426</td>\n",
       "    </tr>\n",
       "    <tr>\n",
       "      <th>12443</th>\n",
       "      <td>2016-12-31</td>\n",
       "      <td>충북</td>\n",
       "      <td>2</td>\n",
       "      <td>1.901478</td>\n",
       "    </tr>\n",
       "  </tbody>\n",
       "</table>\n",
       "<p>12444 rows × 4 columns</p>\n",
       "</div>"
      ],
      "text/plain": [
       "         yyyymmdd area  sex  frequency\n",
       "0      2016-01-01   강원    1   1.170891\n",
       "1      2016-01-01   경기    1   4.528995\n",
       "2      2016-01-01   경남    1   2.049701\n",
       "3      2016-01-01   경북    1   1.915358\n",
       "4      2016-01-01   광주    1   0.704487\n",
       "...           ...  ...  ...        ...\n",
       "12439  2016-12-31   전남    2   2.590440\n",
       "12440  2016-12-31   전북    2   2.414557\n",
       "12441  2016-12-31   제주    2   0.495022\n",
       "12442  2016-12-31   충남    2   1.824426\n",
       "12443  2016-12-31   충북    2   1.901478\n",
       "\n",
       "[12444 rows x 4 columns]"
      ]
     },
     "execution_count": 42,
     "metadata": {},
     "output_type": "execute_result"
    }
   ],
   "source": [
    "submission['frequency'] = final_pred  \n",
    "submission"
   ]
  },
  {
   "cell_type": "code",
   "execution_count": 43,
   "metadata": {
    "ExecuteTime": {
     "end_time": "2022-08-07T07:29:30.917118Z",
     "start_time": "2022-08-07T07:29:30.904153Z"
    }
   },
   "outputs": [
    {
     "name": "stdout",
     "output_type": "stream",
     "text": [
      "5.83238335339996\n",
      "0.0\n"
     ]
    }
   ],
   "source": [
    "#마지막으로 frequency에 대한 최댓값, 최솟값 확인\n",
    "print(submission['frequency'].max())\n",
    "print(submission['frequency'].min())"
   ]
  },
  {
   "cell_type": "code",
   "execution_count": 44,
   "metadata": {
    "ExecuteTime": {
     "end_time": "2022-08-07T07:29:30.992051Z",
     "start_time": "2022-08-07T07:29:30.919114Z"
    }
   },
   "outputs": [
    {
     "data": {
      "text/html": [
       "<div>\n",
       "<style scoped>\n",
       "    .dataframe tbody tr th:only-of-type {\n",
       "        vertical-align: middle;\n",
       "    }\n",
       "\n",
       "    .dataframe tbody tr th {\n",
       "        vertical-align: top;\n",
       "    }\n",
       "\n",
       "    .dataframe thead th {\n",
       "        text-align: right;\n",
       "    }\n",
       "</style>\n",
       "<table border=\"1\" class=\"dataframe\">\n",
       "  <thead>\n",
       "    <tr style=\"text-align: right;\">\n",
       "      <th></th>\n",
       "      <th>yyyymmdd</th>\n",
       "      <th>area</th>\n",
       "      <th>sex</th>\n",
       "      <th>frequency</th>\n",
       "    </tr>\n",
       "  </thead>\n",
       "  <tbody>\n",
       "    <tr>\n",
       "      <th>0</th>\n",
       "      <td>2016-01-01</td>\n",
       "      <td>강원</td>\n",
       "      <td>1</td>\n",
       "      <td>1.170891</td>\n",
       "    </tr>\n",
       "    <tr>\n",
       "      <th>1</th>\n",
       "      <td>2016-01-01</td>\n",
       "      <td>경기</td>\n",
       "      <td>1</td>\n",
       "      <td>4.528995</td>\n",
       "    </tr>\n",
       "    <tr>\n",
       "      <th>2</th>\n",
       "      <td>2016-01-01</td>\n",
       "      <td>경남</td>\n",
       "      <td>1</td>\n",
       "      <td>2.049701</td>\n",
       "    </tr>\n",
       "    <tr>\n",
       "      <th>3</th>\n",
       "      <td>2016-01-01</td>\n",
       "      <td>경북</td>\n",
       "      <td>1</td>\n",
       "      <td>1.915358</td>\n",
       "    </tr>\n",
       "    <tr>\n",
       "      <th>4</th>\n",
       "      <td>2016-01-01</td>\n",
       "      <td>광주</td>\n",
       "      <td>1</td>\n",
       "      <td>0.704487</td>\n",
       "    </tr>\n",
       "    <tr>\n",
       "      <th>...</th>\n",
       "      <td>...</td>\n",
       "      <td>...</td>\n",
       "      <td>...</td>\n",
       "      <td>...</td>\n",
       "    </tr>\n",
       "    <tr>\n",
       "      <th>12439</th>\n",
       "      <td>2016-12-31</td>\n",
       "      <td>전남</td>\n",
       "      <td>2</td>\n",
       "      <td>2.590440</td>\n",
       "    </tr>\n",
       "    <tr>\n",
       "      <th>12440</th>\n",
       "      <td>2016-12-31</td>\n",
       "      <td>전북</td>\n",
       "      <td>2</td>\n",
       "      <td>2.414557</td>\n",
       "    </tr>\n",
       "    <tr>\n",
       "      <th>12441</th>\n",
       "      <td>2016-12-31</td>\n",
       "      <td>제주</td>\n",
       "      <td>2</td>\n",
       "      <td>0.495022</td>\n",
       "    </tr>\n",
       "    <tr>\n",
       "      <th>12442</th>\n",
       "      <td>2016-12-31</td>\n",
       "      <td>충남</td>\n",
       "      <td>2</td>\n",
       "      <td>1.824426</td>\n",
       "    </tr>\n",
       "    <tr>\n",
       "      <th>12443</th>\n",
       "      <td>2016-12-31</td>\n",
       "      <td>충북</td>\n",
       "      <td>2</td>\n",
       "      <td>1.901478</td>\n",
       "    </tr>\n",
       "  </tbody>\n",
       "</table>\n",
       "<p>12444 rows × 4 columns</p>\n",
       "</div>"
      ],
      "text/plain": [
       "         yyyymmdd area  sex  frequency\n",
       "0      2016-01-01   강원    1   1.170891\n",
       "1      2016-01-01   경기    1   4.528995\n",
       "2      2016-01-01   경남    1   2.049701\n",
       "3      2016-01-01   경북    1   1.915358\n",
       "4      2016-01-01   광주    1   0.704487\n",
       "...           ...  ...  ...        ...\n",
       "12439  2016-12-31   전남    2   2.590440\n",
       "12440  2016-12-31   전북    2   2.414557\n",
       "12441  2016-12-31   제주    2   0.495022\n",
       "12442  2016-12-31   충남    2   1.824426\n",
       "12443  2016-12-31   충북    2   1.901478\n",
       "\n",
       "[12444 rows x 4 columns]"
      ]
     },
     "execution_count": 44,
     "metadata": {},
     "output_type": "execute_result"
    }
   ],
   "source": [
    "submission.to_csv('220167.csv', index = False)\n",
    "pd.read_csv('220167.csv')"
   ]
  }
 ],
 "metadata": {
  "kernelspec": {
   "display_name": "Python 3",
   "language": "python",
   "name": "python3"
  },
  "language_info": {
   "codemirror_mode": {
    "name": "ipython",
    "version": 3
   },
   "file_extension": ".py",
   "mimetype": "text/x-python",
   "name": "python",
   "nbconvert_exporter": "python",
   "pygments_lexer": "ipython3",
   "version": "3.8.5"
  },
  "toc": {
   "base_numbering": 1,
   "nav_menu": {},
   "number_sections": true,
   "sideBar": true,
   "skip_h1_title": false,
   "title_cell": "Table of Contents",
   "title_sidebar": "Contents",
   "toc_cell": false,
   "toc_position": {},
   "toc_section_display": true,
   "toc_window_display": false
  }
 },
 "nbformat": 4,
 "nbformat_minor": 4
}
